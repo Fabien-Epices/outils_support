{
 "cells": [
  {
   "cell_type": "markdown",
   "metadata": {},
   "source": [
    "# Récupération des données d'un ficher \".csv\" pour la création d'in fichier de définition MODBUS pour Webdyn (.ini)"
   ]
  },
  {
   "cell_type": "markdown",
   "metadata": {},
   "source": []
  },
  {
   "cell_type": "markdown",
   "metadata": {},
   "source": []
  },
  {
   "cell_type": "markdown",
   "metadata": {},
   "source": [
    "librairies python utilisées..."
   ]
  },
  {
   "cell_type": "code",
   "execution_count": 1,
   "metadata": {},
   "outputs": [],
   "source": [
    "import csv\n",
    "import re\n",
    "from utils import Resize\n",
    "from modbusDefinition import getVarCoeff, modbusDefinition"
   ]
  },
  {
   "cell_type": "markdown",
   "metadata": {},
   "source": [
    "**Varoiables globales**\n",
    "  - \"fileCsvName\" : nom du fichier à parser  \n",
    "  - \"delimiter\" : type de délimiteur (pour le fichier csv à parser)\n",
    "  - \"verbose\" : activation des log de debug "
   ]
  },
  {
   "cell_type": "code",
   "execution_count": 2,
   "metadata": {},
   "outputs": [],
   "source": [
    "fileCsvName  \t= \"./csv_inputs/exemple.csv\"\n",
    "delimiter \t\t= \"\\t\"\n",
    "verbose = True"
   ]
  },
  {
   "cell_type": "markdown",
   "metadata": {},
   "source": [
    "## Analyse du ficgier CSV\n",
    "on ne récupère que les colonnes :\n",
    "  - **'##'** ou **'#'**, qui permet d'ignorer les lignes où ce champs vaut '#'\n",
    "  - **'Requête'**, qui correspond au libellé de la requête \n",
    "  - **'Variable'**, qui correspond au libellé de la variable\n",
    "  - **'Type'**, qui contient le type de variable  \n",
    "  - **'16b'** ou  **'Adr_16b'**, qui contient l'adresse (16 bits)\n",
    "  - **'N'**, qui contient le nbomre de répétitions d'un champs.  \n",
    "    (ex : pour mettre une taille max pour les chaines de caractères) \n",
    "  - les abscisses et ordonnées de 2 points (**'x1', 'x2', 'y1', et 'y2'** ), ce qui permettent de cacluler les coefs **'varCoeffA'** et **'varCoeffB'**    \n",
    "    pour le calcul par interpolation linéaire \"y = A * x + B\" des valeurs à remonter 'y', en connaissant les valeurs lues 'x'.  \n",
    "  - **'Unité'**, qui contient l'unité des données récupérées  \n",
    "  "
   ]
  },
  {
   "cell_type": "markdown",
   "metadata": {},
   "source": [
    "### choix des lignes de variables\n",
    "Il semble que la colonne \"CE\"  soit un compteur de variables.   \n",
    "... on ne prend comme variables que les lignes ayant un CE.  "
   ]
  },
  {
   "cell_type": "code",
   "execution_count": 3,
   "metadata": {},
   "outputs": [
    {
     "name": "stdout",
     "output_type": "stream",
     "text": [
      "ligne ingorée :        {'##': '#', 'Requête': 'ETAT GROUPE', 'Variable': 'Groupe en Auto groupe 1', 'Type': 'bool', 'Adr_16b': '1000', 'N': '', 'x1': '', 'x2': '', 'y1': '', 'y2': '', 'Unité': ''}\n",
      "ligne ingorée :        {'##': '#', 'Requête': 'ETAT GROUPE', 'Variable': 'Groupe en Auto groupe 2', 'Type': 'bool', 'Adr_16b': '1000', 'N': '', 'x1': '', 'x2': '', 'y1': '', 'y2': '', 'Unité': ''}\n",
      "ligne ingorée :        {'##': '#', 'Requête': 'ETAT GROUPE', 'Variable': 'réserve', 'Type': '', 'Adr_16b': '1003', 'N': '', 'x1': '', 'x2': '', 'y1': '', 'y2': '', 'Unité': ''}\n"
     ]
    }
   ],
   "source": [
    "csvData = {}\n",
    "with open(fileCsvName) as csvfile:\n",
    "\treader = csv.DictReader(csvfile, delimiter=delimiter)\n",
    "\n",
    "\tfor row in reader:\n",
    "\t\t#print(row)\n",
    "\n",
    "\t\t####\trécupération des colonnes utiles \t####\n",
    "\t\trequiredFields = True\n",
    "\t\tif 'Requête' \tnot in row.keys() : requiredFields = False\n",
    "\t\tif 'Variable' \tnot in row.keys() : requiredFields = False\n",
    "\t\tif 'Type' \t\tnot in row.keys() : requiredFields = False\n",
    "\t\tif 'Adr_16b' \tnot in row.keys() : requiredFields = False\n",
    "\n",
    "\t\tif requiredFields :\n",
    "\t\t\treqName = str(row['Requête']).replace(\" \",\"_\").replace(\":\",\"\")\t\t\t\t\t\n",
    "\t\t\t\n",
    "\t\t\t# lignes ingorées \n",
    "\t\t\tif \t\t'##'\tin row.keys() :\tignore_line = row['##']\t\t\t\t\t\n",
    "\t\t\telif \t'#'\t\tin row.keys() :\tignore_line = row['#' ]\t\n",
    "\t\t\telse :\t\t\t\t\t\t\tignore_line = \"\"\n",
    "\n",
    "\t\t\t# on ne prend comme variables que les lignes qui commencent pas par '#' ou '##'\n",
    "\t\t\tif ignore_line not in [\"##\", \"#\"] :  \t\t\n",
    "\t\t\t\tvarName \t\t= str(row['Variable']).replace(\" \",\"_\").replace(\":\",\"\")\n",
    "\n",
    "\t\t\t\tif varName\t\t!= \"\" :  \t\t\t# ligne avec nom de variable non-vide\n",
    "\t\t\t\t\tvarType\t \t= row['Type']\t\t# type \n",
    "\t\t\t\t\tvarAddr\t \t= row['Adr_16b']\t# adresse des variables\n",
    "\t\t\t\t\tvarNb\t \t= row['N']\t\t\t# nombre de répétition du champs\n",
    "\t\t\t\t\tx1\t\t\t= row['x1']\t\t\t# abscisse point 1 pour la \"mise à l’échelle de la variable (Ax +B)\"\n",
    "\t\t\t\t\tx2\t\t\t= row['x2']\t\t\t# abscisse point 2 pour la \"mise à l’échelle de la variable (Ax +B)\"\n",
    "\t\t\t\t\ty1\t\t\t= row['y1']\t\t\t# ordonnée point 1 pour la \"mise à l’échelle de la variable (Ax +B)\"\n",
    "\t\t\t\t\ty2\t\t\t= row['y2']\t\t\t# ordonnée point 2 pour la \"mise à l’échelle de la variable (Ax +B)\"\n",
    "\t\t\t\t\tunit \t\t= row['Unité']\t\t# unité\n",
    "\t\t\t\t\t\n",
    "\t\t\t\t\tif reqName not in csvData :\n",
    "\t\t\t\t\t\tcsvData[ reqName ] = {}\n",
    "\t\t\t\t\tif varName not in csvData[ reqName ] :\n",
    "\t\t\t\t\t\tcsvData[ reqName ][ varName ] = {}\n",
    "\t\t\t\t\t\t\n",
    "\t\t\t\t\tcsvData[ reqName ][ varName ] = { \t\n",
    "\t\t\t\t\t\t\"type\"\t\t: varType\t,\t# type\n",
    "\t\t\t\t\t\t\"addr\"\t\t: varAddr\t,\t# adresse des variables\n",
    "\t\t\t\t\t\t\"N\"\t\t\t: varNb\t \t,\t# nombre de répétition du champs\n",
    "\t\t\t\t\t\t\"x1\"  \t\t: x1\t\t,\t# abscisse point 1 pour la \"mise à l’échelle de la variable (Ax +B)\"\n",
    "\t\t\t\t\t\t\"y1\"  \t\t: y1\t\t,\t# abscisse point 2 pour la \"mise à l’échelle de la variable (Ax +B)\"\n",
    "\t\t\t\t\t\t\"x2\"  \t\t: x2\t\t,\t# ordonnée point 1 pour la \"mise à l’échelle de la variable (Ax +B)\"\n",
    "\t\t\t\t\t\t\"y2\"  \t\t: y2\t\t,\t# ordonnée point 2 pour la \"mise à l’échelle de la variable (Ax +B)\"\n",
    "\t\t\t\t\t\t\"unit\"\t\t: unit\t\t,\t# unité\n",
    "\t\t\t\t\t}\n",
    "\t\t\t\t#else:\tprint(\"Nom de variable vide : \" + str(row) )\n",
    "\t\t\telse: \t\tprint(\"ligne ingorée :        \" + str(row) )\n",
    "\n",
    "\t\telse:\n",
    "\t\t\tprint(\"Pb dans les colonne du csv : \\n\" + str(row.keys()) )\n"
   ]
  },
  {
   "cell_type": "markdown",
   "metadata": {},
   "source": [
    "# Affichage des requêtes trouvés et suppression des requêtes vides"
   ]
  },
  {
   "cell_type": "code",
   "execution_count": 4,
   "metadata": {},
   "outputs": [
    {
     "name": "stdout",
     "output_type": "stream",
     "text": [
      " ---- 'DEFAUTS' ---- \n",
      "   Défaut_mesure_de_niveau_amont_grille                         --> {'type': 'u16', 'addr': '100', 'N': '', 'x1': '', 'y1': '', 'x2': '', 'y2': '', 'unit': ''}\n",
      "   Défaut_mesure_de_niveau_aval_centrale                        --> {'type': 'u16', 'addr': '101', 'N': '', 'x1': '', 'y1': '', 'x2': '', 'y2': '', 'unit': ''}\n",
      "   Défaut_niveau_bas                                            --> {'type': 'u16', 'addr': '102', 'N': '', 'x1': '', 'y1': '', 'x2': '', 'y2': '', 'unit': ''}\n",
      "   Alarme_niveau_haut                                           --> {'type': 'bool', 'addr': '103', 'N': '', 'x1': '', 'y1': '', 'x2': '', 'y2': '', 'unit': ''}\n",
      "   Alarme_niveau_bas                                            --> {'type': 'bool', 'addr': '104', 'N': '', 'x1': '', 'y1': '', 'x2': '', 'y2': '', 'unit': ''}\n",
      "   Défaut_acquisition_température_centrale                      --> {'type': 'u16', 'addr': '105', 'N': '', 'x1': '', 'y1': '', 'x2': '', 'y2': '', 'unit': ''}\n",
      "   Défaut_acquisition_température_extérieur                     --> {'type': 'u16', 'addr': '106', 'N': '', 'x1': '', 'y1': '', 'x2': '', 'y2': '', 'unit': ''}\n",
      "   Protection_de_découplage                                     --> {'type': 'u8', 'addr': '107', 'N': '', 'x1': '', 'y1': '', 'x2': '', 'y2': '', 'unit': ''}\n",
      "   Protection_de_découplage_longue                              --> {'type': 'u8', 'addr': '108', 'N': '', 'x1': '', 'y1': '', 'x2': '', 'y2': '', 'unit': ''}\n",
      " ---- 'ETAT_GROUPE' ---- \n",
      "   Groupe_en_Manu                                               --> {'type': 'u8', 'addr': '1000', 'N': '', 'x1': '', 'y1': '', 'x2': '', 'y2': '', 'unit': ''}\n",
      "   Commutateur_groupe_1_sur_marche                              --> {'type': 'bool', 'addr': '1001', 'N': '', 'x1': '', 'y1': '', 'x2': '', 'y2': '', 'unit': ''}\n",
      "   Commutateur_groupe_2_sur_marche                              --> {'type': 'bool', 'addr': '1002', 'N': '', 'x1': '', 'y1': '', 'x2': '', 'y2': '', 'unit': ''}\n",
      "   Mesure_production_groupe_1                                   --> {'type': 'u32', 'addr': '1004', 'N': '', 'x1': '0', 'y1': '100', 'x2': '65535', 'y2': '400', 'unit': 'kWh'}\n",
      "   Mesure_production_groupe_2                                   --> {'type': 'u32', 'addr': '1006', 'N': '', 'x1': '0', 'y1': '100', 'x2': '65535', 'y2': '400', 'unit': 'kWh'}\n",
      "   Compte_tours                                                 --> {'type': 'u32', 'addr': '1008', 'N': '', 'x1': '0', 'y1': '0', 'x2': '10000', 'y2': '166,67', 'unit': 'tr.min'}\n",
      "   libellé_groupe_1                                             --> {'type': 'char', 'addr': '1010', 'N': '10', 'x1': '', 'y1': '', 'x2': '', 'y2': '', 'unit': ''}\n",
      "   libellé_groupe_2                                             --> {'type': 'char', 'addr': '1020', 'N': '10', 'x1': '', 'y1': '', 'x2': '', 'y2': '', 'unit': ''}\n"
     ]
    }
   ],
   "source": [
    "emptyReqList = []\n",
    "for reqName in csvData:\t\n",
    "\tprint(\" ---- '\" + str(reqName) + \"' ---- \" )\n",
    "\tif len(csvData[reqName]) == 0 : \n",
    "\t\tprint(\"   \" + Resize(\"\", 60)+ \" --> requête vide : on ne la prend pas\"  )\n",
    "\t\temptyReqList.append(reqName)\t# liste des requêtes vides\n",
    "\telse :\n",
    "\t\tfor varName in csvData[reqName] :\n",
    "\t\t\tprint(\"   \" + Resize(varName, 60) + \" --> \" + str(csvData[reqName][varName]) )\n",
    "\n",
    "# suppression des requêtes vides\n",
    "for r in emptyReqList :\n",
    "\tcsvData.pop(r)\n"
   ]
  },
  {
   "cell_type": "markdown",
   "metadata": {},
   "source": [
    "# défintion des constantes "
   ]
  },
  {
   "cell_type": "code",
   "execution_count": 5,
   "metadata": {},
   "outputs": [],
   "source": [
    "#(req)id\t\t: \"?\"\t# compteur de requêtes \t\t\t-> calculé\n",
    "#(req)Name\t\t= \"?\"\t# nom de requête \t\t\t\t-> pris dans le fichier csv\n",
    "ReadFctCode \t= 4\n",
    "WriteFctCode \t= 0\n",
    "#StartReg \t\t= min(addrList)\t\t\t\t\t\t\t-> calculé depuis les données du fichier csv\n",
    "#NbReg\t\t\t= len(addrList)\t\t\t\t\t\t\t-> calculé depuis les données du fichier csv\n",
    "EnableReading\t= 1\n",
    "EnableWritting\t= 2\n",
    "Option1\t\t\t= 0\n",
    "Option2\t\t\t= 0\n",
    "\n",
    "#varIndex\t\t= 1\t\t# compteur de variables \t\t-> calculé\n",
    "#varReqIndex\t= 1\t\t# index du groupe (requête)\t\t-> calculé\n",
    "#varName\t\t= \"?\"\t# nom de variable \t\t\t\t-> pris   dans le fichier csv\n",
    "varType\t\t\t= 8\t\t# type de variable \t\t\t\t-> depuis dans le fichier csv (à vérifier)\n",
    "varSigned\t\t= 1\t\t# signe de la variable \t-> ...\tà prendre dans le fichier csv ???\n",
    "varPosition\t\t= \"?\"\t# adresse relative\t\t\t\t-> depuis dans le fichier csv (à vérifier)\n",
    "varOption1\t\t= \"\"\n",
    "varOption2\t\t= \"\"\n",
    "varCoeffA\t\t= 1\t\t# gain pour la variable\t\t\t-> depuis dans le fichier csv (à vérifier)\n",
    "varCoeffB\t\t= 0\t\t# offset de la variable\t\t\t-> depuis dans le fichier csv (à vérifier)\n",
    "varUnit\t\t\t= \"\"\t# unité  de la variable\t\t\t-> pris dans le fichier csv\n",
    "varAction\t\t= 2\n",
    "\n",
    "\n"
   ]
  },
  {
   "cell_type": "markdown",
   "metadata": {},
   "source": []
  },
  {
   "cell_type": "markdown",
   "metadata": {},
   "source": [
    "## Fonction de conversion des types de données  \n",
    "Les types \"MW\", \"MD?\", \"M\" fournis par le SCADA en même temps que l'adresse sont convertis en types \"MODUS\" (colonne 'varType') \n",
    "  \n",
    "**TODO** :  \n",
    "  - vérifier la conversion ci-dessous, et trouver à quoi correspond \"MD\",  \n",
    "  - vérifier que l'adresse n'est pas impactée (multiplication x2 ou x4 de l'adresser suivant les types ?),   \n",
    "  - vérifier que le signe n'est pas impacté (colonne MODBUS 'varSigned'),   "
   ]
  },
  {
   "cell_type": "code",
   "execution_count": 6,
   "metadata": {},
   "outputs": [],
   "source": [
    "def dataTypeTranslate(wordType=\"u16\") :\n",
    "\n",
    "\td = {\t\t# les adresses sont en mots (de 16 bits)\n",
    "\t\t\"bool\"\t\t: 1  ,\t# { 'size':  1,\t'littleEndian':True,\t'signed': 2,\t'fr' : \"bit\", \t\t\t\t\t\t\t\t\t}, \t\n",
    "\t\t\"u8\"\t\t: 2  ,\t# { 'size':  1,\t'littleEndian':True,\t'signed': 2,\t'fr' : \"octet\", \t\t\t\t\t\t\t\t}, \n",
    "\t\t\"u16\"\t\t: 3  ,\t# { 'size':  1,\t'littleEndian':True,\t'signed': 2,\t'fr' : \"mot\", \t\t\t\t\t\t\t\t\t}, \n",
    "\t\t\"u16inv\"\t: 4  ,\t# { 'size':  1,\t'littleEndian':False,\t'signed': 2,\t'fr' : \"mot inversé\", \t\t\t\t\t\t\t}, \n",
    "\t\t\"u32\"\t\t: 5  ,\t# { 'size':  2,\t'littleEndian':True,\t'signed': 2,\t'fr' : \"double mot\", \t\t\t\t\t\t\t}, \n",
    "\t\t\"u32inv\"\t: 6  ,\t# { 'size':  2,\t'littleEndian':False,\t'signed': 2,\t'fr' : \"double mot inversé\", \t\t\t\t\t}, \n",
    "\t\t\"f32\"\t\t: 7  ,\t# { 'size':  2,\t'littleEndian':True,\t'signed': 2,\t'fr' : \"flottant\", \t\t\t\t\t\t\t\t}, \n",
    "\t\t\"f32inv\"\t: 8  ,\t# { 'size':  2,\t'littleEndian':False,\t'signed': 2,\t'fr' : \"flottant inversé\", \t\t\t\t\t\t}, \n",
    "\t\t\"char\"\t\t: 9  ,\t# { 'size':  1,\t'littleEndian':True,\t'signed': 2,\t'fr' : \"chaîne de caractères\", \t\t\t\t\t}, \n",
    "\t#\t\"???\"\t\t: 10 ,\t# { 'size':  1,\t'littleEndian':Truee,\t'signed': 2,\t'fr' : \"Format spécifique afficheur Siebert\", \t}, \n",
    "\t}\n",
    "\ttry :\n",
    "\t\tvarType = d[wordType]\n",
    "\texcept :\n",
    "\t\tvarType = str(wordType) + \"???\"\n",
    "\n",
    "\treturn varType"
   ]
  },
  {
   "cell_type": "markdown",
   "metadata": {},
   "source": [
    "# Construction du fichier modbus  "
   ]
  },
  {
   "cell_type": "markdown",
   "metadata": {},
   "source": [
    "**Valeurs d'initialisation**  \n",
    "\n",
    "2 structures permettent de choisir les valeur d'initialisations des colonnes MODBUS :  \n",
    "  - pour les requêtes  : **mb.RequestsTableColumns**\n",
    "  - pour les variables : **mb.VariablesTableColumns**\n",
    "  \n",
    "... ici, on ne fait que les affichier\n",
    "_(mais il est possible de modifier ces valeurs d'init via les attributs ci-dessus)_ "
   ]
  },
  {
   "cell_type": "code",
   "execution_count": 7,
   "metadata": {},
   "outputs": [
    {
     "name": "stdout",
     "output_type": "stream",
     "text": [
      "RequestsTableColumns...\n",
      "# id;Name;ReadFctCode;WriteFctCode;StartReg;NbReg;EnableReading;EnableWritting;Option1;Option2\n",
      "   id                   ---> ?\n",
      "   Name                 ---> ?\n",
      "   ReadFctCode          ---> 3\n",
      "   WriteFctCode         ---> 0\n",
      "   StartReg             ---> 0\n",
      "   NbReg                ---> 0\n",
      "   EnableReading        ---> 1\n",
      "   EnableWritting       ---> 2\n",
      "   Option1              ---> 0\n",
      "   Option2              ---> 0\n",
      "VariablesTableColumns...\n",
      "# varIndex;varReqIndex;varName;varType;varSigned;varPosition;varOption1;varOption2;varCoeffA;varCoeffB;varUnit;varAction\n",
      "   varIndex             ---> ?\n",
      "   varReqIndex          ---> ?\n",
      "   varName              ---> ?\n",
      "   varType              ---> 8\n",
      "   varSigned            ---> 2\n",
      "   varPosition          ---> 1\n",
      "   varOption1           ---> \n",
      "   varOption2           ---> \n",
      "   varCoeffA            ---> 1\n",
      "   varCoeffB            ---> 0\n",
      "   varUnit              ---> \n",
      "   varAction            ---> 2\n"
     ]
    }
   ],
   "source": [
    "mb = modbusDefinition(\"La Serve\")\n",
    "mb.printReqColumns(True)\n",
    "mb.printVarColumns(True)"
   ]
  },
  {
   "cell_type": "markdown",
   "metadata": {},
   "source": [
    "# Décodages des valeurs (trouvées dans le CSV), et appel de la fonction \"add_Request_And_Variables_with_adresses()\"\n",
    "L'appel à la fonction \"add_Request_And_Variables_with_adresses()\" permet d'ajouter d'un seul bloc :   \n",
    "  - la requête, et \n",
    "  - les variables qui lui sont associées,\n",
    "\n",
    "Cela pemet aussi d'automatiser un certain nombre de calculs :\n",
    "  - [id] l'indetifiant (compteur) des requêtes,  \n",
    "  - [StartReg] l'adresses de début de requête,  \n",
    "  - [NbReg] le comptage du nombre d'octets à lire pour la requête,  \n",
    "    \n",
    "  - [varIndex] l'indetifiant (compteur) des variables,  \n",
    "  - [varReqIndex] l'association des variables à leur requête,  \n",
    "  - [varPosition] le calcul de l'offset de la variable par rapport àson adresse de début,  \n",
    "  \n",
    "_Note : la requête peut alors n'être définie que par son nom [Name], le reste des champs étant calculé ou figés par une valeur d'init._"
   ]
  },
  {
   "cell_type": "markdown",
   "metadata": {},
   "source": [
    "\n",
    "## Calcul de l'interpolation linéaire (coefs A & B)  \n",
    "Les colonnes du CSV ont été renommées en abscisses et ordonnées de 2 points dont on fait l'interpolation linéaire via la fonction 'getVarCoeff()' :  \n",
    "  - x1\t<= 'Val.API mini'   \n",
    "  - x2\t<= 'Val. API maxi'  \n",
    "  - y1\t<= 'Val. fin mini'  \n",
    "  - y2\t<= 'Val. fin maxi'  \n",
    "\t\n",
    "... ce qui permet d'avoir les colonnes 'varCoeffA' et 'varCoeffB' de la definition MODBUS.  \n",
    "  \n",
    "## L'unité  \n",
    "Dans la colonne MODBUS 'varUnit', on reprend telle quelle la colonne CSV 'unit'.  \n"
   ]
  },
  {
   "cell_type": "code",
   "execution_count": 8,
   "metadata": {},
   "outputs": [
    {
     "name": "stdout",
     "output_type": "stream",
     "text": [
      " ---- 'DEFAUTS' ---- \n",
      "{'DEFAUTS': {'Défaut_mesure_de_niveau_amont_grille': {'type': 'u16', 'addr': '100', 'N': '', 'x1': '', 'y1': '', 'x2': '', 'y2': '', 'unit': ''}, 'Défaut_mesure_de_niveau_aval_centrale': {'type': 'u16', 'addr': '101', 'N': '', 'x1': '', 'y1': '', 'x2': '', 'y2': '', 'unit': ''}, 'Défaut_niveau_bas': {'type': 'u16', 'addr': '102', 'N': '', 'x1': '', 'y1': '', 'x2': '', 'y2': '', 'unit': ''}, 'Alarme_niveau_haut': {'type': 'bool', 'addr': '103', 'N': '', 'x1': '', 'y1': '', 'x2': '', 'y2': '', 'unit': ''}, 'Alarme_niveau_bas': {'type': 'bool', 'addr': '104', 'N': '', 'x1': '', 'y1': '', 'x2': '', 'y2': '', 'unit': ''}, 'Défaut_acquisition_température_centrale': {'type': 'u16', 'addr': '105', 'N': '', 'x1': '', 'y1': '', 'x2': '', 'y2': '', 'unit': ''}, 'Défaut_acquisition_température_extérieur': {'type': 'u16', 'addr': '106', 'N': '', 'x1': '', 'y1': '', 'x2': '', 'y2': '', 'unit': ''}, 'Protection_de_découplage': {'type': 'u8', 'addr': '107', 'N': '', 'x1': '', 'y1': '', 'x2': '', 'y2': '', 'unit': ''}, 'Protection_de_découplage_longue': {'type': 'u8', 'addr': '108', 'N': '', 'x1': '', 'y1': '', 'x2': '', 'y2': '', 'unit': ''}}, 'ETAT_GROUPE': {'Groupe_en_Manu': {'type': 'u8', 'addr': '1000', 'N': '', 'x1': '', 'y1': '', 'x2': '', 'y2': '', 'unit': ''}, 'Commutateur_groupe_1_sur_marche': {'type': 'bool', 'addr': '1001', 'N': '', 'x1': '', 'y1': '', 'x2': '', 'y2': '', 'unit': ''}, 'Commutateur_groupe_2_sur_marche': {'type': 'bool', 'addr': '1002', 'N': '', 'x1': '', 'y1': '', 'x2': '', 'y2': '', 'unit': ''}, 'Mesure_production_groupe_1': {'type': 'u32', 'addr': '1004', 'N': '', 'x1': '0', 'y1': '100', 'x2': '65535', 'y2': '400', 'unit': 'kWh'}, 'Mesure_production_groupe_2': {'type': 'u32', 'addr': '1006', 'N': '', 'x1': '0', 'y1': '100', 'x2': '65535', 'y2': '400', 'unit': 'kWh'}, 'Compte_tours': {'type': 'u32', 'addr': '1008', 'N': '', 'x1': '0', 'y1': '0', 'x2': '10000', 'y2': '166,67', 'unit': 'tr.min'}, 'libellé_groupe_1': {'type': 'char', 'addr': '1010', 'N': '10', 'x1': '', 'y1': '', 'x2': '', 'y2': '', 'unit': ''}, 'libellé_groupe_2': {'type': 'char', 'addr': '1020', 'N': '10', 'x1': '', 'y1': '', 'x2': '', 'y2': '', 'unit': ''}}}\n",
      "   Défaut_mesure_de_niveau_amont_grille                         --> {'type': 'u16', 'addr': '100', 'N': '', 'x1': '', 'y1': '', 'x2': '', 'y2': '', 'unit': ''}\n",
      "   Défaut_mesure_de_niveau_aval_centrale                        --> {'type': 'u16', 'addr': '101', 'N': '', 'x1': '', 'y1': '', 'x2': '', 'y2': '', 'unit': ''}\n",
      "   Défaut_niveau_bas                                            --> {'type': 'u16', 'addr': '102', 'N': '', 'x1': '', 'y1': '', 'x2': '', 'y2': '', 'unit': ''}\n",
      "   Alarme_niveau_haut                                           --> {'type': 'bool', 'addr': '103', 'N': '', 'x1': '', 'y1': '', 'x2': '', 'y2': '', 'unit': ''}\n",
      "   Alarme_niveau_bas                                            --> {'type': 'bool', 'addr': '104', 'N': '', 'x1': '', 'y1': '', 'x2': '', 'y2': '', 'unit': ''}\n",
      "   Défaut_acquisition_température_centrale                      --> {'type': 'u16', 'addr': '105', 'N': '', 'x1': '', 'y1': '', 'x2': '', 'y2': '', 'unit': ''}\n",
      "   Défaut_acquisition_température_extérieur                     --> {'type': 'u16', 'addr': '106', 'N': '', 'x1': '', 'y1': '', 'x2': '', 'y2': '', 'unit': ''}\n",
      "   Protection_de_découplage                                     --> {'type': 'u8', 'addr': '107', 'N': '', 'x1': '', 'y1': '', 'x2': '', 'y2': '', 'unit': ''}\n",
      "   Protection_de_découplage_longue                              --> {'type': 'u8', 'addr': '108', 'N': '', 'x1': '', 'y1': '', 'x2': '', 'y2': '', 'unit': ''}\n",
      "req: DEFAUTS             ...\n",
      "      @100 : varName=Défaut_mesure_de_niveau_amont_grille, varType=3, varCoeffA=1.0, varCoeffB=0.0\n",
      "      @101 : varName=Défaut_mesure_de_niveau_aval_centrale, varType=3, varCoeffA=1.0, varCoeffB=0.0\n",
      "      @102 : varName=Défaut_niveau_bas, varType=3, varCoeffA=1.0, varCoeffB=0.0\n",
      "      @103 : varName=Alarme_niveau_haut, varType=1, varCoeffA=1.0, varCoeffB=0.0\n",
      "      @104 : varName=Alarme_niveau_bas, varType=1, varCoeffA=1.0, varCoeffB=0.0\n",
      "      @105 : varName=Défaut_acquisition_température_centrale, varType=3, varCoeffA=1.0, varCoeffB=0.0\n",
      "      @106 : varName=Défaut_acquisition_température_extérieur, varType=3, varCoeffA=1.0, varCoeffB=0.0\n",
      "      @107 : varName=Protection_de_découplage, varType=2, varCoeffA=1.0, varCoeffB=0.0\n",
      "      @108 : varName=Protection_de_découplage_longue, varType=2, varCoeffA=1.0, varCoeffB=0.0\n",
      " ====== {'Name': 'DEFAUTS', 'StartReg': 100, 'NbReg': 8, 'id': 1} ====== \n",
      " ---- 'ETAT_GROUPE' ---- \n",
      "{'DEFAUTS': {'Défaut_mesure_de_niveau_amont_grille': {'type': 'u16', 'addr': '100', 'N': '', 'x1': '', 'y1': '', 'x2': '', 'y2': '', 'unit': ''}, 'Défaut_mesure_de_niveau_aval_centrale': {'type': 'u16', 'addr': '101', 'N': '', 'x1': '', 'y1': '', 'x2': '', 'y2': '', 'unit': ''}, 'Défaut_niveau_bas': {'type': 'u16', 'addr': '102', 'N': '', 'x1': '', 'y1': '', 'x2': '', 'y2': '', 'unit': ''}, 'Alarme_niveau_haut': {'type': 'bool', 'addr': '103', 'N': '', 'x1': '', 'y1': '', 'x2': '', 'y2': '', 'unit': ''}, 'Alarme_niveau_bas': {'type': 'bool', 'addr': '104', 'N': '', 'x1': '', 'y1': '', 'x2': '', 'y2': '', 'unit': ''}, 'Défaut_acquisition_température_centrale': {'type': 'u16', 'addr': '105', 'N': '', 'x1': '', 'y1': '', 'x2': '', 'y2': '', 'unit': ''}, 'Défaut_acquisition_température_extérieur': {'type': 'u16', 'addr': '106', 'N': '', 'x1': '', 'y1': '', 'x2': '', 'y2': '', 'unit': ''}, 'Protection_de_découplage': {'type': 'u8', 'addr': '107', 'N': '', 'x1': '', 'y1': '', 'x2': '', 'y2': '', 'unit': ''}, 'Protection_de_découplage_longue': {'type': 'u8', 'addr': '108', 'N': '', 'x1': '', 'y1': '', 'x2': '', 'y2': '', 'unit': ''}}, 'ETAT_GROUPE': {'Groupe_en_Manu': {'type': 'u8', 'addr': '1000', 'N': '', 'x1': '', 'y1': '', 'x2': '', 'y2': '', 'unit': ''}, 'Commutateur_groupe_1_sur_marche': {'type': 'bool', 'addr': '1001', 'N': '', 'x1': '', 'y1': '', 'x2': '', 'y2': '', 'unit': ''}, 'Commutateur_groupe_2_sur_marche': {'type': 'bool', 'addr': '1002', 'N': '', 'x1': '', 'y1': '', 'x2': '', 'y2': '', 'unit': ''}, 'Mesure_production_groupe_1': {'type': 'u32', 'addr': '1004', 'N': '', 'x1': '0', 'y1': '100', 'x2': '65535', 'y2': '400', 'unit': 'kWh'}, 'Mesure_production_groupe_2': {'type': 'u32', 'addr': '1006', 'N': '', 'x1': '0', 'y1': '100', 'x2': '65535', 'y2': '400', 'unit': 'kWh'}, 'Compte_tours': {'type': 'u32', 'addr': '1008', 'N': '', 'x1': '0', 'y1': '0', 'x2': '10000', 'y2': '166,67', 'unit': 'tr.min'}, 'libellé_groupe_1': {'type': 'char', 'addr': '1010', 'N': '10', 'x1': '', 'y1': '', 'x2': '', 'y2': '', 'unit': ''}, 'libellé_groupe_2': {'type': 'char', 'addr': '1020', 'N': '10', 'x1': '', 'y1': '', 'x2': '', 'y2': '', 'unit': ''}}}\n",
      "   Groupe_en_Manu                                               --> {'type': 'u8', 'addr': '1000', 'N': '', 'x1': '', 'y1': '', 'x2': '', 'y2': '', 'unit': ''}\n",
      "   Commutateur_groupe_1_sur_marche                              --> {'type': 'bool', 'addr': '1001', 'N': '', 'x1': '', 'y1': '', 'x2': '', 'y2': '', 'unit': ''}\n",
      "   Commutateur_groupe_2_sur_marche                              --> {'type': 'bool', 'addr': '1002', 'N': '', 'x1': '', 'y1': '', 'x2': '', 'y2': '', 'unit': ''}\n",
      "   Mesure_production_groupe_1                                   --> {'type': 'u32', 'addr': '1004', 'N': '', 'x1': '0', 'y1': '100', 'x2': '65535', 'y2': '400', 'unit': 'kWh'}\n",
      "   Mesure_production_groupe_2                                   --> {'type': 'u32', 'addr': '1006', 'N': '', 'x1': '0', 'y1': '100', 'x2': '65535', 'y2': '400', 'unit': 'kWh'}\n",
      "   Compte_tours                                                 --> {'type': 'u32', 'addr': '1008', 'N': '', 'x1': '0', 'y1': '0', 'x2': '10000', 'y2': '166,67', 'unit': 'tr.min'}\n",
      "   libellé_groupe_1                                             --> {'type': 'char', 'addr': '1010', 'N': '10', 'x1': '', 'y1': '', 'x2': '', 'y2': '', 'unit': ''}\n",
      "   libellé_groupe_2                                             --> {'type': 'char', 'addr': '1020', 'N': '10', 'x1': '', 'y1': '', 'x2': '', 'y2': '', 'unit': ''}\n",
      "req: ETAT_GROUPE         ...\n",
      "      @1000: varName=Groupe_en_Manu, varType=2, varCoeffA=1.0, varCoeffB=0.0\n",
      "      @1001: varName=Commutateur_groupe_1_sur_marche, varType=1, varCoeffA=1.0, varCoeffB=0.0\n",
      "      @1002: varName=Commutateur_groupe_2_sur_marche, varType=1, varCoeffA=1.0, varCoeffB=0.0\n",
      "      @1004: varName=Mesure_production_groupe_1, varType=5, varCoeffA=0.004577706569008927, varCoeffB=100.0, varUnit=kWh\n",
      "      @1006: varName=Mesure_production_groupe_2, varType=5, varCoeffA=0.004577706569008927, varCoeffB=100.0, varUnit=kWh\n",
      "      @1008: varName=Compte_tours, varType=5, varCoeffA=0.016666999999999998, varCoeffB=0.0, varUnit=tr.min\n",
      "      @1010: varName=libellé_groupe_1, varType=9, varCoeffA=1.0, varCoeffB=0.0\n",
      "      @1020: varName=libellé_groupe_2, varType=9, varCoeffA=1.0, varCoeffB=0.0\n",
      " ====== {'Name': 'ETAT_GROUPE', 'StartReg': 1000, 'NbReg': 20, 'id': 2} ====== \n",
      "/!\\ next addr.: 1004 != 1003 -> 1 vairables manquantes !\n",
      "/!\\ next addr.: 1020 != 1011 -> 9 vairables manquantes !\n"
     ]
    }
   ],
   "source": [
    "for reqName in csvData:\t\n",
    "\tprint(\" ---- '\" + str(reqName) + \"' ---- \" )\n",
    "\tprint(csvData)\n",
    "\tV = {}\n",
    "\n",
    "\n",
    "\tfor varName in csvData[reqName] :\n",
    "\t\tprint(\"   \" + Resize(varName, 60) + \" --> \" + str(csvData[reqName][varName]) )\n",
    "\t\t\n",
    "\t\t### \tdécodage des variables\t ###\n",
    "\t\twordAddr    \t= int(csvData[reqName][varName]['addr'])\n",
    "\t\twordType    \t= csvData[reqName][varName]['type']\n",
    "\n",
    "\t\t# coefs A, B à partir des valeurs min/max \n",
    "\t\t(A, B) = getVarCoeff(\tcsvData[reqName][varName]['x1'],\t\t\t\t\t\t# coefs A & B\n",
    "\t\t\t\t\t\t\t\tcsvData[reqName][varName]['y1'],\n",
    "\t\t\t\t\t\t\t\tcsvData[reqName][varName]['x2'],\n",
    "\t\t\t\t\t\t\t\tcsvData[reqName][varName]['y2']\t)\n",
    "\n",
    "\t\t# construction d'un dictionnaire décrivant la requête (avec les noms de colonne 'modbus')\n",
    "\t\tnewVar = {\n",
    "\t\t\t#'varIndex' \t: calculé automatiquement\n",
    "\t\t\t#'varReqIndex'\t: calculé automatiquement\n",
    "\t\t\t'varName'\t\t: varName\t\t\t\t\t\t\t\t\t,\n",
    "\t\t\t'varType'\t\t: dataTypeTranslate(wordType)\t\t\t\t, \t# TODO : vérifier la conversion lettre -> chiffre ???\n",
    "\t\t\t#'varSigned'\t: en dure (VariablesTableColumns)\n",
    "\t\t\t#'varPosition'\t: calculé automatiquement à partir de l'adresse 'wordAddr'\n",
    "\t\t\t#'varOption1'\t: en dure (VariablesTableColumns)\n",
    "\t\t\t#'varOption2'\t: en dure (VariablesTableColumns)\t\t\t\t\n",
    "\t\t\t'varCoeffA'\t\t: A\t\t\t\t\t\t\t\t\t\t\t,\t# mise à l’échelle de la variable (Ax +B)\n",
    "\t\t\t'varCoeffB'\t\t: B\t\t\t\t\t\t\t\t\t\t\t,\t# mise à l’échelle de la variable (Ax +B)\n",
    "\t\t\t'varUnit'\t\t: str(csvData[reqName][varName]['unit'])\t,\n",
    "\t\t\t#'varAction'\t: en dure (VariablesTableColumns)\t\t\t\n",
    "\t\t\t'debug'\t\t\t: csvData[reqName]\n",
    "\t\t}\n",
    "\n",
    "\t\t####\tdétection des adresses en doubles (dans la définiton des variables)\t###\n",
    "\t\tif wordAddr not in V :\n",
    "\t\t\tV[wordAddr] = newVar\n",
    "\t\telse :\n",
    "\t\t\tprint(\"\\n\")\n",
    "\t\t\tprint(\"/!\\\\ Il exite déjà une variabble à l'adresse \" + str(wordAddr) + \"... /!\\\\\")\n",
    "\t\t\tprint(V[wordAddr])\n",
    "\t\t\tprint(newVar)\n",
    "\t\t\traise TypeError(\"/!\\\\ Duplication d'adresse de variables /!\\\\\")\n",
    "\n",
    "\n",
    "\tif reqName :\t# suppression des ligne où le nom de requête n'est pas défini...\n",
    "\n",
    "\t\tif 1 :\t\t# debug\n",
    "\t\t\tprint(\"req: \" +Resize(reqName) + \"...\")\n",
    "\t\t\tfor a in V : \n",
    "\t\t\t\tprint(\"      @\" + Resize(a, 4) + \": \" +\tmb.strValues(V[a]) )\t\t# affichage des valeurs d'un dictionnaire définissant une variable \n",
    "\n",
    "\t\t# ajout de la requêtes (R) et des varibles associées indexées par les adresse (V) \n",
    "\t\tmb.add_Request_And_Variables_with_adresses(reqName, V, False)"
   ]
  },
  {
   "cell_type": "markdown",
   "metadata": {},
   "source": [
    "**décodage de l'adresse**\n",
    "  -  utilsation d'un regex '%(\\w)(\\d+)':\n",
    "\t- '%' ets le début du mot   \n",
    "\t- ([A-Z]+) est un chaine de lettres qui correspond au type de données    \n",
    "\t- ([0-9]+) est un chaine de chiffres qui correspond à l'adresse,  \n",
    "\t ... on pourrait utiliser (\\d+) ?  \n"
   ]
  },
  {
   "cell_type": "markdown",
   "metadata": {},
   "source": []
  },
  {
   "cell_type": "markdown",
   "metadata": {},
   "source": [
    "# Fichier Modbus"
   ]
  },
  {
   "cell_type": "code",
   "execution_count": 9,
   "metadata": {},
   "outputs": [
    {
     "name": "stdout",
     "output_type": "stream",
     "text": [
      "------------------------------------------------ Requêtes  ------------------------------------------------\n",
      "req1     --- DEFAUTS                             ---> '1;DEFAUTS;3;0;100;8;1;2;0;0'\n",
      "req2     --- ETAT_GROUPE                         ---> '2;ETAT_GROUPE;3;0;1000;20;1;2;0;0'\n",
      " ----------------------------------------- \n",
      "   id         Name  ReadFctCode  WriteFctCode  StartReg  NbReg  EnableReading  EnableWritting  Option1  Option2\n",
      "0   1      DEFAUTS            3             0       100      8              1               2        0        0\n",
      "1   2  ETAT_GROUPE            3             0      1000     20              1               2        0        0\n"
     ]
    }
   ],
   "source": [
    "print(\"------------------------------------------------ Requêtes  ------------------------------------------------\")\n",
    "mb.printRequest('all')"
   ]
  },
  {
   "cell_type": "code",
   "execution_count": 10,
   "metadata": {},
   "outputs": [
    {
     "name": "stdout",
     "output_type": "stream",
     "text": [
      "------------------------------------------------ Variables ------------------------------------------------\n",
      "----------------------------------------------------------------------------------\n",
      "req 1 (DEFAUTS) : variables... \n",
      "   0;1;Défaut_mesure_de_niveau_amont_grille;3;2;1;;;1.0;0.0;;2\n",
      "   1;1;Défaut_mesure_de_niveau_aval_centrale;3;2;2;;;1.0;0.0;;2\n",
      "   2;1;Défaut_niveau_bas;3;2;3;;;1.0;0.0;;2\n",
      "   3;1;Alarme_niveau_haut;1;2;4;;;1.0;0.0;;2\n",
      "   4;1;Alarme_niveau_bas;1;2;5;;;1.0;0.0;;2\n",
      "   5;1;Défaut_acquisition_température_centrale;3;2;6;;;1.0;0.0;;2\n",
      "   6;1;Défaut_acquisition_température_extérieur;3;2;7;;;1.0;0.0;;2\n",
      "   7;1;Protection_de_découplage;2;2;8;;;1.0;0.0;;2\n",
      "   8;1;Protection_de_découplage_longue;2;2;9;;;1.0;0.0;;2\n",
      "----------------------------------------------------------------------------------\n",
      " --- DEFAUTS --- \n",
      "   varIndex  varReqIndex                   varName  varType  varSigned  varPosition varOption1 varOption2  varCoeffA  varCoeffB varUnit  varAction\n",
      "0         0            1  Défaut_mesure_de_nive...        3          2            1                              1.0        0.0                  2\n",
      "1         1            1  Défaut_mesure_de_nive...        3          2            2                              1.0        0.0                  2\n",
      "2         2            1         Défaut_niveau_bas        3          2            3                              1.0        0.0                  2\n",
      "3         3            1        Alarme_niveau_haut        1          2            4                              1.0        0.0                  2\n",
      "4         4            1         Alarme_niveau_bas        1          2            5                              1.0        0.0                  2\n",
      "5         5            1  Défaut_acquisition_te...        3          2            6                              1.0        0.0                  2\n",
      "6         6            1  Défaut_acquisition_te...        3          2            7                              1.0        0.0                  2\n",
      "7         7            1  Protection_de_découplage        2          2            8                              1.0        0.0                  2\n",
      "8         8            1  Protection_de_découpl...        2          2            9                              1.0        0.0                  2\n",
      "----------------------------------------------------------------------------------\n",
      "req 2 (ETAT_GROUPE) : variables... \n",
      "   9;2;Groupe_en_Manu;2;2;1;;;1.0;0.0;;2\n",
      "   10;2;Commutateur_groupe_1_sur_marche;1;2;2;;;1.0;0.0;;2\n",
      "   11;2;Commutateur_groupe_2_sur_marche;1;2;3;;;1.0;0.0;;2\n",
      "   12;2;reserve;2;2;4;;;1;0;;0\n",
      "   13;2;Mesure_production_groupe_1;5;2;5;;;0.004577706569008927;100.0;kWh;2\n",
      "   14;2;Mesure_production_groupe_2;5;2;7;;;0.004577706569008927;100.0;kWh;2\n",
      "   15;2;Compte_tours;5;2;9;;;0.016666999999999998;0.0;tr.min;2\n",
      "   16;2;libellé_groupe_1;9;2;11;;;1.0;0.0;;2\n",
      "   17;2;reserve;2;2;12;;;1;0;;0\n",
      "   18;2;reserve;2;2;13;;;1;0;;0\n",
      "   19;2;reserve;2;2;14;;;1;0;;0\n",
      "   20;2;reserve;2;2;15;;;1;0;;0\n",
      "   21;2;reserve;2;2;16;;;1;0;;0\n",
      "   22;2;reserve;2;2;17;;;1;0;;0\n",
      "   23;2;reserve;2;2;18;;;1;0;;0\n",
      "   24;2;reserve;2;2;19;;;1;0;;0\n",
      "   25;2;reserve;2;2;20;;;1;0;;0\n",
      "   26;2;libellé_groupe_2;9;2;21;;;1.0;0.0;;2\n",
      "----------------------------------------------------------------------------------\n",
      " --- ETAT_GROUPE --- \n",
      "    varIndex  varReqIndex                   varName  varType  varSigned  varPosition varOption1 varOption2  varCoeffA  varCoeffB varUnit  varAction\n",
      "0          9            2            Groupe_en_Manu        2          2            1                         1.000000        0.0                  2\n",
      "1         10            2  Commutateur_groupe_1_...        1          2            2                         1.000000        0.0                  2\n",
      "2         11            2  Commutateur_groupe_2_...        1          2            3                         1.000000        0.0                  2\n",
      "3         12            2                   reserve        2          2            4                         1.000000        0.0                  0\n",
      "4         13            2  Mesure_production_gro...        5          2            5                         0.004578      100.0     kWh          2\n",
      "5         14            2  Mesure_production_gro...        5          2            7                         0.004578      100.0     kWh          2\n",
      "6         15            2              Compte_tours        5          2            9                         0.016667        0.0  tr.min          2\n",
      "7         16            2          libellé_groupe_1        9          2           11                         1.000000        0.0                  2\n",
      "8         17            2                   reserve        2          2           12                         1.000000        0.0                  0\n",
      "9         18            2                   reserve        2          2           13                         1.000000        0.0                  0\n",
      "10        19            2                   reserve        2          2           14                         1.000000        0.0                  0\n",
      "11        20            2                   reserve        2          2           15                         1.000000        0.0                  0\n",
      "12        21            2                   reserve        2          2           16                         1.000000        0.0                  0\n",
      "13        22            2                   reserve        2          2           17                         1.000000        0.0                  0\n",
      "14        23            2                   reserve        2          2           18                         1.000000        0.0                  0\n",
      "15        24            2                   reserve        2          2           19                         1.000000        0.0                  0\n",
      "16        25            2                   reserve        2          2           20                         1.000000        0.0                  0\n",
      "17        26            2          libellé_groupe_2        9          2           21                         1.000000        0.0                  2\n"
     ]
    }
   ],
   "source": [
    "print(\"------------------------------------------------ Variables ------------------------------------------------\")\n",
    "mb.printVariables('all')"
   ]
  },
  {
   "cell_type": "markdown",
   "metadata": {},
   "source": [
    "## Création du fichier"
   ]
  },
  {
   "cell_type": "code",
   "execution_count": 11,
   "metadata": {},
   "outputs": [
    {
     "name": "stdout",
     "output_type": "stream",
     "text": [
      ">>> création du répertoire './out/Nouvergies/'\n",
      "\n",
      " --- fichier ./out/Nouvergies/modbus_La_Serve.json créé ---- \n",
      "#Based on La Serve collected values\n",
      "\n",
      "# Description of fields\n",
      "# id;Name;ReadFctCode;WriteFctCode;StartReg;NbReg;EnableReading;EnableWritting;Option1;Option2\n",
      "Modbus_RequestsTables={\n",
      "1;DEFAUTS;3;0;100;8;1;2;0;0\n",
      "2;ETAT_GROUPE;3;0;1000;20;1;2;0;0\n",
      "}\n",
      "\n",
      "\n",
      "\n",
      "# Description of fields\n",
      "# varIndex;varReqIndex;varName;varType;varSigned;varPosition;varOption1;varOption2;varCoeffA;varCoeffB;varUnit;varAction\n",
      "#\n",
      "Modbus_VariablesTables={\n",
      "0;1;Défaut_mesure_de_niveau_amont_grille;3;2;1;;;1.0;0.0;;2\n",
      "1;1;Défaut_mesure_de_niveau_aval_centrale;3;2;2;;;1.0;0.0;;2\n",
      "2;1;Défaut_niveau_bas;3;2;3;;;1.0;0.0;;2\n",
      "3;1;Alarme_niveau_haut;1;2;4;;;1.0;0.0;;2\n",
      "4;1;Alarme_niveau_bas;1;2;5;;;1.0;0.0;;2\n",
      "5;1;Défaut_acquisition_température_centrale;3;2;6;;;1.0;0.0;;2\n",
      "6;1;Défaut_acquisition_température_extérieur;3;2;7;;;1.0;0.0;;2\n",
      "7;1;Protection_de_découplage;2;2;8;;;1.0;0.0;;2\n",
      "8;1;Protection_de_découplage_longue;2;2;9;;;1.0;0.0;;2\n",
      "9;2;Groupe_en_Manu;2;2;1;;;1.0;0.0;;2\n",
      "10;2;Commutateur_groupe_1_sur_marche;1;2;2;;;1.0;0.0;;2\n",
      "11;2;Commutateur_groupe_2_sur_marche;1;2;3;;;1.0;0.0;;2\n",
      "12;2;reserve;2;2;4;;;1;0;;0\n",
      "13;2;Mesure_production_groupe_1;5;2;5;;;0.004577706569008927;100.0;kWh;2\n",
      "14;2;Mesure_production_groupe_2;5;2;7;;;0.004577706569008927;100.0;kWh;2\n",
      "15;2;Compte_tours;5;2;9;;;0.016666999999999998;0.0;tr.min;2\n",
      "16;2;libellé_groupe_1;9;2;11;;;1.0;0.0;;2\n",
      "17;2;reserve;2;2;12;;;1;0;;0\n",
      "18;2;reserve;2;2;13;;;1;0;;0\n",
      "19;2;reserve;2;2;14;;;1;0;;0\n",
      "20;2;reserve;2;2;15;;;1;0;;0\n",
      "21;2;reserve;2;2;16;;;1;0;;0\n",
      "22;2;reserve;2;2;17;;;1;0;;0\n",
      "23;2;reserve;2;2;18;;;1;0;;0\n",
      "24;2;reserve;2;2;19;;;1;0;;0\n",
      "25;2;reserve;2;2;20;;;1;0;;0\n",
      "26;2;libellé_groupe_2;9;2;21;;;1.0;0.0;;2\n",
      "}\n",
      " --- fichier ./out/Nouvergies/modbus_La_Serve.ini créé ---- \n"
     ]
    }
   ],
   "source": [
    "mb.modbusDefFile(outputDir= \"./out/Nouvergies/\", fileName = \"modbus_La_Serve.ini\", verbose = True)"
   ]
  },
  {
   "cell_type": "markdown",
   "metadata": {},
   "source": []
  }
 ],
 "metadata": {
  "kernelspec": {
   "display_name": "Python 3",
   "language": "python",
   "name": "python3"
  },
  "language_info": {
   "codemirror_mode": {
    "name": "ipython",
    "version": 3
   },
   "file_extension": ".py",
   "mimetype": "text/x-python",
   "name": "python",
   "nbconvert_exporter": "python",
   "pygments_lexer": "ipython3",
   "version": "3.12.2"
  },
  "orig_nbformat": 4
 },
 "nbformat": 4,
 "nbformat_minor": 2
}
