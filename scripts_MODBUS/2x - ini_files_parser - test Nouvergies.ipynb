{
 "cells": [
  {
   "cell_type": "markdown",
   "metadata": {},
   "source": [
    "# Analyse des fichiers d'initialisation modubus (.ini)"
   ]
  },
  {
   "cell_type": "markdown",
   "metadata": {},
   "source": []
  },
  {
   "cell_type": "markdown",
   "metadata": {},
   "source": [
    "librairies python utilisées..."
   ]
  },
  {
   "cell_type": "code",
   "execution_count": 1,
   "metadata": {},
   "outputs": [],
   "source": [
    "from modbusDefinition import modbusDefinition\n",
    "mb = modbusDefinition()"
   ]
  },
  {
   "cell_type": "markdown",
   "metadata": {},
   "source": [
    "- parserDir() : choix des répertoire de lecture et éctiture  \n",
    "- parse() :  choix du fichier à analyser"
   ]
  },
  {
   "cell_type": "markdown",
   "metadata": {},
   "source": [
    "## Choix des répertoires \n",
    "-> lecture & écriture des données décodés"
   ]
  },
  {
   "cell_type": "code",
   "execution_count": 2,
   "metadata": {},
   "outputs": [],
   "source": [
    "# fichiers de test Nouvergies\n",
    "inputDir= \"./out/Nouvergies/\"\n",
    "outputDir= \"./ZZZ/out/Nouvergies/\"\n",
    "fileName= \"modbus_La_Serve.ini\"\n",
    "encoding='utf-16'"
   ]
  },
  {
   "cell_type": "code",
   "execution_count": 3,
   "metadata": {},
   "outputs": [],
   "source": [
    "mb.parserDir(inputDir, outputDir)"
   ]
  },
  {
   "cell_type": "markdown",
   "metadata": {},
   "source": [
    "## Choix du fichier '.ini' à décoder"
   ]
  },
  {
   "cell_type": "code",
   "execution_count": 4,
   "metadata": {},
   "outputs": [
    {
     "name": "stdout",
     "output_type": "stream",
     "text": [
      "./out/Nouvergies/modbus_La_Serve.ini\n",
      "#Based on La Serve collected values\n",
      "# Description of fields\n",
      "# id;Name;ReadFctCode;WriteFctCode;StartReg;NbReg;EnableReading;EnableWritting;Option1;Option2\n",
      "# Description of fields\n",
      "# varIndex;varReqIndex;varName;varType;varSigned;varPosition;varOption1;varOption2;varCoeffA;varCoeffB;varUnit;varAction\n",
      "#\n"
     ]
    }
   ],
   "source": [
    "print(inputDir + fileName)\n",
    "mb.iniParser(fileName, encoding, skipUnreadVal= True , verbose=False)\n"
   ]
  },
  {
   "cell_type": "markdown",
   "metadata": {},
   "source": []
  },
  {
   "cell_type": "markdown",
   "metadata": {},
   "source": [
    "## Affichage des données du '.ini' décodées"
   ]
  },
  {
   "cell_type": "code",
   "execution_count": 5,
   "metadata": {},
   "outputs": [
    {
     "name": "stdout",
     "output_type": "stream",
     "text": [
      "\n",
      "----------------\n",
      "parsing de ./out/Nouvergies/modbus_La_Serve.ini\n",
      "----------------\n",
      " --- liste des requêtes ---\n",
      "  id                Name ReadFctCode WriteFctCode StartReg NbReg EnableReading EnableWritting Option1 Option2\n",
      "0  1  DEFAUTS_ET_ALARMES           3            0      101    59             1              2       0       0\n",
      "1  2         ETAT_GROUPE           3            0     2001   143             1              2       0       0\n",
      "2  3   DEFAUT_DEGRILLEUR           3            0     4007    28             1              2       0       0\n",
      "\n",
      " --- listes de variables ---\n",
      "   varIndex varReqIndex                   varName varType varSigned varPosition varOption1 varOption2 varCoeffA varCoeffB varUnit varAction\n",
      "0         0           1  Défaut_mesure_de_nive...       2         2           0                             1.0       0.0                 2\n",
      "1         2           1  Défaut_mesure_de_nive...       2         2           2                             1.0       0.0                 2\n",
      "2         3           1         Défaut_niveau_bas       2         2           3                             1.0       0.0                 2\n",
      "3         4           1        Alarme_niveau_haut       2         2           4                             1.0       0.0                 2\n",
      "4        11           1         Alarme_niveau_bas       2         2          11                             1.0       0.0                 2\n",
      "5        14           1  Défaut_acquisition_te...       2         2          14                             1.0       0.0                 2\n",
      "6        15           1  Défaut_acquisition_te...       2         2          15                             1.0       0.0                 2\n",
      "7        16           1  Protection_de_découplage       2         2          16                             1.0       0.0                 2\n",
      "8        17           1  Protection_de_découpl...       2         2          17                             1.0       0.0                 2\n",
      "9        20           1   Arrêt_d'urgence_général       2         2          20                             1.0       0.0                 2\n",
      "10       27           1        Protection_C13-100       2         2          27                             1.0       0.0                 2\n",
      "11       36           1  Défaut_Com_entrées_so...       2         2          36                             1.0       0.0                 2\n",
      "12       37           1  Défaut_module_entrées...       2         2          37                             1.0       0.0                 2\n",
      "13       38           1  Interrupteur_HTA_géné...       2         2          38                             1.0       0.0                 2\n",
      "14       46           1         Défaut_dégrilleur       2         2          46                             1.0       0.0                 2\n",
      "15       47           1  Retour_de_marche_dégr...       2         2          47                             1.0       0.0                 2\n",
      "16       58           1  Défaut_manque_réactif...       2         2          58                             1.0       0.0                 2\n",
      "17       59           1  Défaut_trop_de_réacti...       2         2          59                             1.0       0.0                 2\n",
      "\n",
      "   varIndex varReqIndex                   varName varType varSigned varPosition varOption1 varOption2 varCoeffA varCoeffB varUnit varAction\n",
      "0        60           2    Groupe_en_Maintenance_       2         2           0                             1.0       0.0                 2\n",
      "1        61           2            Groupe_en_Manu       2         2           1                             1.0       0.0                 2\n",
      "2        62           2            Groupe_en_Auto       2         2           2                             1.0       0.0                 2\n",
      "3        63           2  Commutateur_groupe_su...       2         2           3                             1.0       0.0                 2\n",
      "4        64           2  Commutateur_groupe_su...       2         2           4                             1.0       0.0                 2\n",
      "..      ...         ...                       ...     ...       ...         ...        ...        ...       ...       ...     ...       ...\n",
      "87      199           2  Interrupteur_HT/BT_ou...       2         2         139                             1.0       0.0                 2\n",
      "88      200           2  Alarme_température_tr...       2         2         140                             1.0       0.0                 2\n",
      "89      201           2  Défaut_température_tr...       2         2         141                             1.0       0.0                 2\n",
      "90      202           2  Dégagement_gazeux_tra...       2         2         142                             1.0       0.0                 2\n",
      "91      203           2  Défaut_pression_trans...       2         2         143                             1.0       0.0                 2\n",
      "\n",
      "[92 rows x 12 columns]\n",
      "\n",
      "  varIndex varReqIndex                   varName varType varSigned varPosition varOption1 varOption2 varCoeffA varCoeffB varUnit varAction\n",
      "0      204           3       Défaut_dégrilleur_1       2         2           0                             1.0       0.0                 2\n",
      "1      205           3       Défaut_dégrilleur_2       2         2           1                             1.0       0.0                 2\n",
      "2      206           3  Commutateur_auto_dégr...       2         2           2                             1.0       0.0                 2\n",
      "3      207           3  Commutateur_auto_dégr...       2         2           3                             1.0       0.0                 2\n",
      "4      208           3       Marche_dégrilleur_1       2         2           4                             1.0       0.0                 2\n",
      "5      209           3       Marche_dégrilleur_2       2         2           5                             1.0       0.0                 2\n",
      "6      230           3  Défaut_communication_...       2         2          26                             1.0       0.0                 2\n",
      "7      231           3  Défaut_électrique_îlo...       2         2          27                             1.0       0.0                 2\n",
      "8      232           3  Défaut_prolongé_commu...       2         2          28                             1.0       0.0                 2\n",
      "\n",
      "----------------\n"
     ]
    }
   ],
   "source": [
    "mb.print()"
   ]
  },
  {
   "cell_type": "code",
   "execution_count": 6,
   "metadata": {},
   "outputs": [
    {
     "name": "stdout",
     "output_type": "stream",
     "text": [
      " --- fichier ./ZZZ/out/Nouvergies/modbus_La_Serve.ini.json créé ---- \n"
     ]
    }
   ],
   "source": [
    "mb.ini2JsonFile()"
   ]
  },
  {
   "cell_type": "code",
   "execution_count": 7,
   "metadata": {},
   "outputs": [
    {
     "name": "stdout",
     "output_type": "stream",
     "text": [
      "----------------\n",
      "                ReqName ReqStartReg varIndex varReqIndex                   varName varType varSigned varPosition varOption1 varOption2 varCoeffA varCoeffB varUnit varAction   adr   fin\n",
      "0    DEFAUTS_ET_ALARMES         101        0           1  Défaut_mesure_de_nive...       2         2           0                             1.0       0.0                 2   101   101\n",
      "1    DEFAUTS_ET_ALARMES         101        2           1  Défaut_mesure_de_nive...       2         2           2                             1.0       0.0                 2   103   103\n",
      "2    DEFAUTS_ET_ALARMES         101        3           1         Défaut_niveau_bas       2         2           3                             1.0       0.0                 2   104   104\n",
      "3    DEFAUTS_ET_ALARMES         101        4           1        Alarme_niveau_haut       2         2           4                             1.0       0.0                 2   105   105\n",
      "4    DEFAUTS_ET_ALARMES         101       11           1         Alarme_niveau_bas       2         2          11                             1.0       0.0                 2   112   112\n",
      "..                  ...         ...      ...         ...                       ...     ...       ...         ...        ...        ...       ...       ...     ...       ...   ...   ...\n",
      "114   DEFAUT_DEGRILLEUR        4007      208           3       Marche_dégrilleur_1       2         2           4                             1.0       0.0                 2  4011  4011\n",
      "115   DEFAUT_DEGRILLEUR        4007      209           3       Marche_dégrilleur_2       2         2           5                             1.0       0.0                 2  4012  4012\n",
      "116   DEFAUT_DEGRILLEUR        4007      230           3  Défaut_communication_...       2         2          26                             1.0       0.0                 2  4033  4033\n",
      "117   DEFAUT_DEGRILLEUR        4007      231           3  Défaut_électrique_îlo...       2         2          27                             1.0       0.0                 2  4034  4034\n",
      "118   DEFAUT_DEGRILLEUR        4007      232           3  Défaut_prolongé_commu...       2         2          28                             1.0       0.0                 2  4035  4035\n",
      "\n",
      "[119 rows x 16 columns]\n",
      "--- fichier ./ZZZ/out/Nouvergies/modbus_La_Serve.ini.csv créé ----\n"
     ]
    }
   ],
   "source": [
    "mb.ini2CsvFile()"
   ]
  }
 ],
 "metadata": {
  "kernelspec": {
   "display_name": "Python 3",
   "language": "python",
   "name": "python3"
  },
  "language_info": {
   "codemirror_mode": {
    "name": "ipython",
    "version": 3
   },
   "file_extension": ".py",
   "mimetype": "text/x-python",
   "name": "python",
   "nbconvert_exporter": "python",
   "pygments_lexer": "ipython3",
   "version": "3.12.2"
  },
  "orig_nbformat": 4
 },
 "nbformat": 4,
 "nbformat_minor": 2
}
